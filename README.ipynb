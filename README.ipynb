{
 "cells": [
  {
   "cell_type": "markdown",
   "metadata": {},
   "source": [
    "# Word 实用技巧集合"
   ]
  },
  {
   "cell_type": "markdown",
   "metadata": {},
   "source": [
    "这里收录的不是显而易见的 Word 基本操作，例如对齐，字体大小，加粗等，而是不那么容易知道，或很隐蔽不容易找到，又很实用的的操作技巧。"
   ]
  },
  {
   "cell_type": "markdown",
   "metadata": {},
   "source": [
    "## 选择性打印"
   ]
  },
  {
   "cell_type": "markdown",
   "metadata": {},
   "source": [
    "按 `CTRL + P` 呼出打印设置页，设置中可以选择性打印，默认打印所有页，可选 “打印选定区域” 来只打印选定的内容；“打印当前页” 只打印 Word 当前查看的页面；“自定义打印范围” 设置要打印某（些）页："
   ]
  },
  {
   "cell_type": "markdown",
   "metadata": {},
   "source": [
    "![](imgs/2021-10-31_21-19-19.png)"
   ]
  },
  {
   "cell_type": "markdown",
   "metadata": {},
   "source": [
    "## 文档保护和管理"
   ]
  },
  {
   "cell_type": "markdown",
   "metadata": {},
   "source": [
    "为了防止文档因为断电等意外原因关闭，又没有保存，导致内容全部丢失，我们可以设置文档隔一段时间自动保存一次：依次点击 `文件`，`选项`，`保存`，设置自动保存时间即可。"
   ]
  },
  {
   "cell_type": "markdown",
   "metadata": {},
   "source": [
    "![](imgs/2021-10-31_22-07-15.png)"
   ]
  },
  {
   "cell_type": "markdown",
   "metadata": {},
   "source": [
    "如果文档意外关闭，可选择恢复到某个时间点；如果要给文档设置密码或权限，都可以依次点击 `文件`，`信息`："
   ]
  },
  {
   "cell_type": "markdown",
   "metadata": {},
   "source": [
    "![](imgs/2021-11-01_08-37-20.png)"
   ]
  },
  {
   "cell_type": "markdown",
   "metadata": {},
   "source": [
    "![](imgs/2021-11-01_08-38-27.png)"
   ]
  },
  {
   "cell_type": "markdown",
   "metadata": {},
   "source": [
    "**提示**：如果要取消密码保护，再次点开设置密码，将密码清除，确定即可："
   ]
  },
  {
   "cell_type": "markdown",
   "metadata": {},
   "source": [
    "![](imgs/2021-11-01_08-48-11.png)"
   ]
  },
  {
   "cell_type": "markdown",
   "metadata": {},
   "source": [
    "## Word 转 PDF"
   ]
  },
  {
   "cell_type": "markdown",
   "metadata": {},
   "source": [
    "有时候需要将 Word 转 PDF，则有两种方法："
   ]
  },
  {
   "cell_type": "markdown",
   "metadata": {},
   "source": [
    "呼出打印，打印机选择 `Microsoft Print to PDF`，点击 `打印`，选择要保存的文件夹确定即可："
   ]
  },
  {
   "cell_type": "markdown",
   "metadata": {},
   "source": [
    "![](imgs/2021-11-01_08-54-30.png)"
   ]
  },
  {
   "cell_type": "markdown",
   "metadata": {},
   "source": [
    "或者依次点击 `文件`，`导出`，`创建 PDF/XPS`，选择要保存的文件夹，确定即可："
   ]
  },
  {
   "cell_type": "markdown",
   "metadata": {},
   "source": [
    "![](imgs/2021-11-01_09-02-32.png)"
   ]
  },
  {
   "cell_type": "markdown",
   "metadata": {},
   "source": [
    "## 粘贴选项"
   ]
  },
  {
   "cell_type": "markdown",
   "metadata": {},
   "source": [
    "有时候你需要将其他地方的内容复制到 Word 中来，粘贴到 Word 中后，格式不一样，那么刚粘贴完时，你可以点击光标后面的小提示，会提供一些选项让你选择格式："
   ]
  },
  {
   "cell_type": "markdown",
   "metadata": {},
   "source": [
    "![](imgs/2021-11-01_09-25-44.png)"
   ]
  },
  {
   "cell_type": "markdown",
   "metadata": {},
   "source": [
    "## 格式刷妙用"
   ]
  },
  {
   "cell_type": "markdown",
   "metadata": {},
   "source": [
    "Word 文档左上角有一把小刷子，如果你想让内容 B 的格式和内容 A 的一样，选中 A，点一下小刷子，选中 B，B 的格式就和 A 一样了。"
   ]
  },
  {
   "cell_type": "markdown",
   "metadata": {},
   "source": [
    "![](imgs/2021-11-01_09-43-24.png)"
   ]
  },
  {
   "cell_type": "markdown",
   "metadata": {},
   "source": [
    "**提示**：点一下小刷子，只能刷一次，双击它，可以无限刷，例如将 B, C, D, E…… 都刷成 A 的格式。"
   ]
  },
  {
   "cell_type": "markdown",
   "metadata": {},
   "source": [
    "## 剪切板找内容"
   ]
  },
  {
   "cell_type": "markdown",
   "metadata": {},
   "source": [
    "有时候，你将某些内容剪切掉，忘了粘贴，做了其他复制操作之后再粘贴，内容已经不见了，用剪切板找回来："
   ]
  },
  {
   "cell_type": "markdown",
   "metadata": {},
   "source": [
    "![](imgs/2021-11-01_09-52-46.png)"
   ]
  },
  {
   "cell_type": "markdown",
   "metadata": {},
   "source": [
    "文档里面你做过的复制、剪切内容，表格，图片等，都可以在剪切板里找到。"
   ]
  },
  {
   "cell_type": "markdown",
   "metadata": {},
   "source": [
    "## 分栏对齐"
   ]
  },
  {
   "cell_type": "markdown",
   "metadata": {},
   "source": [
    "选择需要对齐的文本，点击标尺底部任意位置，添加一个对齐制表符，然后在需要对齐的文本前按 `Tab` 键，就能一秒实现快速对齐，而不需要一直敲空格键来实现对齐："
   ]
  },
  {
   "cell_type": "markdown",
   "metadata": {},
   "source": [
    "![](imgs/v2-b01ac0354df16d19c3738b5913f4342f_b.gif)"
   ]
  },
  {
   "cell_type": "markdown",
   "metadata": {},
   "source": [
    "## 查找、替换和定位"
   ]
  },
  {
   "cell_type": "markdown",
   "metadata": {},
   "source": [
    "按 `CTRL + F` 呼出查找页面，在导航下面的搜索框里输入要查找的内容，回车，即可在文档中显示找到的内容："
   ]
  },
  {
   "cell_type": "markdown",
   "metadata": {},
   "source": [
    "![](imgs/2021-11-01_12-20-20.png)"
   ]
  },
  {
   "cell_type": "markdown",
   "metadata": {},
   "source": [
    "点击搜索框后面的小箭头，会弹出更多选项，可以查找图片，表格等，以及高级查找，替换，定位："
   ]
  },
  {
   "cell_type": "markdown",
   "metadata": {},
   "source": [
    "![](imgs/2021-11-01_12-24-26.png)"
   ]
  },
  {
   "cell_type": "markdown",
   "metadata": {},
   "source": [
    "然后选择高级查找，弹出窗口进行更高级的操作。例如使用通配符、区分大小写查找以及替换，或通过页、节等定位："
   ]
  },
  {
   "cell_type": "markdown",
   "metadata": {},
   "source": [
    "![](imgs/2021-11-01_12-39-35.png)"
   ]
  },
  {
   "cell_type": "markdown",
   "metadata": {},
   "source": [
    "例如通配符搜索 `图*图`，将匹配两个 “图” 字之间有任意字符的内容："
   ]
  },
  {
   "cell_type": "markdown",
   "metadata": {},
   "source": [
    "![](imgs/2021-11-01_12-51-29.png)"
   ]
  },
  {
   "cell_type": "markdown",
   "metadata": {},
   "source": [
    "替换，则可以将匹配到的内容替换为你输入的内容。例如，如果段落之间的空行太多，只保留一个，可以输入 `^p^p^p`，全部替换为 `^p^p`（可以多替换几次直到全部为一个空行）："
   ]
  },
  {
   "cell_type": "markdown",
   "metadata": {},
   "source": [
    "![](imgs/2021-11-01_12-58-35.png)"
   ]
  },
  {
   "cell_type": "markdown",
   "metadata": {},
   "source": [
    "![](imgs/2021-11-01_13-28-02.png)"
   ]
  },
  {
   "cell_type": "markdown",
   "metadata": {},
   "source": [
    "定位，默认是按页定位。例如文档有 600 页，你要到第 200 页，手动下拉当然不如直接输入 200 瞬间跳转到 200 页。定位也可以选择其他条件来进行。"
   ]
  },
  {
   "cell_type": "markdown",
   "metadata": {},
   "source": [
    "## 表格处理"
   ]
  },
  {
   "cell_type": "markdown",
   "metadata": {},
   "source": [
    "### 表格合并"
   ]
  },
  {
   "cell_type": "markdown",
   "metadata": {},
   "source": [
    "如果两个紧挨一起表格中间有一个空行，怎么页没法将它们合并，怎么办呢？空行前面双击选中空行，将它剪切掉即可合并表格："
   ]
  },
  {
   "cell_type": "markdown",
   "metadata": {},
   "source": [
    "![](imgs/2021-11-02_14-06-59.png)"
   ]
  },
  {
   "cell_type": "markdown",
   "metadata": {},
   "source": [
    "### 表格拆分"
   ]
  },
  {
   "cell_type": "markdown",
   "metadata": {},
   "source": [
    "要将一个表格拆分，选中需要拆分行，按 `Ctrl + Shift + Enter` 即可："
   ]
  },
  {
   "cell_type": "markdown",
   "metadata": {},
   "source": [
    "![](imgs/2021-11-02_14-13-00.png)"
   ]
  },
  {
   "cell_type": "markdown",
   "metadata": {},
   "source": [
    "### 文本快速转表格"
   ]
  },
  {
   "cell_type": "markdown",
   "metadata": {},
   "source": [
    "如果要将格式比较一致的文本转换为表格，可以选中要转换为表格的内容，然后依次选择 `插入`，`表格`，`文本转换成表格` 即可："
   ]
  },
  {
   "cell_type": "markdown",
   "metadata": {},
   "source": [
    "![](imgs/2021-11-02_14-22-00.png)"
   ]
  },
  {
   "cell_type": "markdown",
   "metadata": {},
   "source": [
    "![](imgs/2021-11-02_14-28-59.png)"
   ]
  },
  {
   "cell_type": "markdown",
   "metadata": {},
   "source": [
    "### 表格转文本"
   ]
  },
  {
   "cell_type": "markdown",
   "metadata": {},
   "source": [
    "要将表格转为文本，选中表格，依次点击 `布局`，`数据`，`转换为文本`："
   ]
  },
  {
   "cell_type": "markdown",
   "metadata": {},
   "source": [
    "![](imgs/2021-11-02_14-36-47.png)"
   ]
  },
  {
   "cell_type": "markdown",
   "metadata": {},
   "source": [
    "### 表格自动生成标题"
   ]
  },
  {
   "cell_type": "markdown",
   "metadata": {},
   "source": [
    "如果表格太长，跨越多个页面，想在每个页面都有一个标题行做参考，如何设置？选中表格，依次点击 `布局`，`数据`，`重复标题行`："
   ]
  },
  {
   "cell_type": "markdown",
   "metadata": {},
   "source": [
    "![](imgs/v2-b3916a0e9601b228a20815145f95a260_b.gif)"
   ]
  },
  {
   "cell_type": "markdown",
   "metadata": {},
   "source": [
    "### 表格中文字或图片显示不全"
   ]
  },
  {
   "cell_type": "markdown",
   "metadata": {},
   "source": [
    "某一行的文字显示不全，右键选择 `表格属性`，弹出窗口选择 `行`，行高选择 `最小值` 即可："
   ]
  },
  {
   "cell_type": "markdown",
   "metadata": {},
   "source": [
    "![](imgs/v2-c0ff0b6e5e3d0d72620397a10bdb6fe7_b.gif)"
   ]
  },
  {
   "cell_type": "markdown",
   "metadata": {},
   "source": [
    "插入表格的图片显示不全，点击图片所在单元格，依次点击 `开始`，`段落`，弹出对话框 `间距` 设为 `单倍行距` 即可："
   ]
  },
  {
   "cell_type": "markdown",
   "metadata": {},
   "source": [
    "![](imgs/v2-47e226f6a65d29238739e3c457c4572c_b.gif)"
   ]
  },
  {
   "cell_type": "markdown",
   "metadata": {},
   "source": [
    "### 表格简单计算"
   ]
  },
  {
   "cell_type": "markdown",
   "metadata": {},
   "source": [
    "在 Word 文档中，也可以进行计算，例如下面的求和：依次选择 `布局`，`数据`，`公式`，然后将结果复制到其他单元格上，再按 `F9`，即可。"
   ]
  },
  {
   "cell_type": "markdown",
   "metadata": {},
   "source": [
    "![](imgs/v2-d0fae1f899ea6fa36389962426185dc5_b.webp)"
   ]
  },
  {
   "cell_type": "markdown",
   "metadata": {},
   "source": [
    "如果表格需要进行复杂的拆分，合并，计算等，你又对 excel 比较熟悉，可以在 excel 中做好表格，直接复制到 Word 文档中。"
   ]
  },
  {
   "cell_type": "markdown",
   "metadata": {},
   "source": [
    "## 图片和背景"
   ]
  },
  {
   "cell_type": "markdown",
   "metadata": {},
   "source": [
    "### 图片统一大小"
   ]
  },
  {
   "cell_type": "markdown",
   "metadata": {},
   "source": [
    "如果要将 Word 文档中的图片统一大小，一张一张的去设置，简直不要太慢。怎么快速设置呢？点击一张图片右键选择 `大小和位置`，设置图片高宽后，依次点击其他图片，按 `F4` 键，即可快速统一图片大小："
   ]
  },
  {
   "cell_type": "markdown",
   "metadata": {},
   "source": [
    "### 给文档添加水印"
   ]
  },
  {
   "cell_type": "markdown",
   "metadata": {},
   "source": [
    "如果要给文档添加水印，依次点击 `设计`，`水印`，`自定义水印`，设置水印即可："
   ]
  },
  {
   "cell_type": "markdown",
   "metadata": {},
   "source": [
    "![](imgs/2021-11-02_16-20-46.png)"
   ]
  },
  {
   "cell_type": "markdown",
   "metadata": {},
   "source": [
    "水印可以是文字也可以自己选择图片呢。"
   ]
  },
  {
   "cell_type": "markdown",
   "metadata": {},
   "source": [
    "### 文档背景设置"
   ]
  },
  {
   "cell_type": "markdown",
   "metadata": {},
   "source": [
    "如果嫌文档背景白色太刺眼，可以选择 `页面颜色` 设置页面的颜色："
   ]
  },
  {
   "cell_type": "markdown",
   "metadata": {},
   "source": [
    "![](imgs/2021-11-02_16-26-11.png)"
   ]
  },
  {
   "cell_type": "markdown",
   "metadata": {},
   "source": [
    "还可以选择 `填充效果`，选择图片等作为文档的背景。"
   ]
  },
  {
   "cell_type": "markdown",
   "metadata": {},
   "source": [
    "### 快速保存所有图片"
   ]
  },
  {
   "cell_type": "markdown",
   "metadata": {},
   "source": [
    "文档中有很多图片，一张一张保存不可取，有什么快速的方法，一次保存？将 Word 文件后缀更改为 `rar`，然后解压出来，找到 `word` 文件夹，在该文件夹中有个 `media` 文件夹，所有图片都在里面啦。"
   ]
  },
  {
   "cell_type": "markdown",
   "metadata": {},
   "source": [
    "## 快速合并多个文档"
   ]
  },
  {
   "cell_type": "markdown",
   "metadata": {},
   "source": [
    "有多个文档（可以是 Word 或 PDF 呢），现在要将他们的内容全部合并到一个 Word 中，一个一个打开复制粘贴吗？Out 啦。"
   ]
  },
  {
   "cell_type": "markdown",
   "metadata": {},
   "source": [
    "一次点击 `插入`，`对象`，`文件中的文字`，在弹出的窗口中将所有要插入的文件内容选中，插入即可。"
   ]
  },
  {
   "cell_type": "markdown",
   "metadata": {},
   "source": [
    "![](imgs/2021-11-02_16-49-35.png)"
   ]
  },
  {
   "cell_type": "markdown",
   "metadata": {},
   "source": [
    "## 页码非第一页开始"
   ]
  },
  {
   "cell_type": "markdown",
   "metadata": {},
   "source": [
    "有时我们设置页码，前几页是封面或其他，我们需要页码从后几页开始，怎么设置？假设第一页是封面，我们从第二页开始页码，如何设置？"
   ]
  },
  {
   "cell_type": "markdown",
   "metadata": {},
   "source": [
    "将光标放在第二页首，依次点击 `布局`，`分隔符`，`下一页`："
   ]
  },
  {
   "cell_type": "markdown",
   "metadata": {},
   "source": [
    "![](imgs/2021-11-02_17-26-50.png)"
   ]
  },
  {
   "cell_type": "markdown",
   "metadata": {},
   "source": [
    "接着将光标放在第二页底部，单击鼠标右键弹出 `编辑页脚`，点击它："
   ]
  },
  {
   "cell_type": "markdown",
   "metadata": {},
   "source": [
    "![](imgs/2021-11-02_18-19-53.png)"
   ]
  },
  {
   "cell_type": "markdown",
   "metadata": {},
   "source": [
    "点击取消 `链接到前一节`，取消勾选 `首页不同`，点击 `页码`，`页面底端`，选择自己喜欢的页码格式："
   ]
  },
  {
   "cell_type": "markdown",
   "metadata": {},
   "source": [
    "![](imgs/2021-11-02_18-28-26.png)"
   ]
  },
  {
   "cell_type": "markdown",
   "metadata": {},
   "source": [
    "继续点击 `页码`，`设置页码格式`，将页码起始页设为 1，然后页码就从第二页以 1 开始啦。"
   ]
  },
  {
   "cell_type": "markdown",
   "metadata": {},
   "source": [
    "![](imgs/2021-11-02_18-33-12.png)"
   ]
  },
  {
   "cell_type": "markdown",
   "metadata": {},
   "source": [
    "## 设置直达正文的目录"
   ]
  },
  {
   "cell_type": "markdown",
   "metadata": {},
   "source": [
    "如果文档是一本书，或一份很长的报告等，如何在最前面给它加上目录，然后点击目录直达相应章节呢？"
   ]
  },
  {
   "cell_type": "markdown",
   "metadata": {},
   "source": [
    "### 设置标题"
   ]
  },
  {
   "cell_type": "markdown",
   "metadata": {},
   "source": [
    "选中第一个要设为目录的内容（其他的也需要与它格式一样），依次点击 `开始`，`选择`，`选择格式相似的文本`，将自动选中所有要设为目录的内容："
   ]
  },
  {
   "cell_type": "markdown",
   "metadata": {},
   "source": [
    "![](imgs/2021-11-02_21-37-57.png)"
   ]
  },
  {
   "cell_type": "markdown",
   "metadata": {},
   "source": [
    "然后右键点击 `标题1`，再左键点击 `修改`，弹出的窗口修改标题样式，确定后，再点击一下 `标题1`，即可设置标题（设置之后还可以隐藏某个标题下的内容呢）："
   ]
  },
  {
   "cell_type": "markdown",
   "metadata": {},
   "source": [
    "![](imgs/2021-11-02_21-43-11.png)"
   ]
  },
  {
   "cell_type": "markdown",
   "metadata": {},
   "source": [
    "![](imgs/2021-11-02_21-47-08.png)"
   ]
  },
  {
   "cell_type": "markdown",
   "metadata": {},
   "source": [
    "同样的操作设置 `标题2`："
   ]
  },
  {
   "cell_type": "markdown",
   "metadata": {},
   "source": [
    "![](imgs/20211102215114.png)"
   ]
  },
  {
   "cell_type": "markdown",
   "metadata": {},
   "source": [
    "### 生成目录"
   ]
  },
  {
   "cell_type": "markdown",
   "metadata": {},
   "source": [
    "设置完标题后，光标回到文档前面的空白页，点击 `引用`，`目录`，选择一个目录样式，即可在空白页中生成可以直达正文的目录啦："
   ]
  },
  {
   "cell_type": "markdown",
   "metadata": {},
   "source": [
    "![](imgs/2021-11-02_21-55-51.png)"
   ]
  },
  {
   "cell_type": "markdown",
   "metadata": {},
   "source": [
    "## 调整字符间距"
   ]
  },
  {
   "cell_type": "markdown",
   "metadata": {},
   "source": [
    "文档字符之间的间距太宽或太紧，都很不舒服，那么如何调整字体间的间距呢？"
   ]
  },
  {
   "cell_type": "markdown",
   "metadata": {},
   "source": [
    "选中要调节的内容，依次点击 `开始`，`字体`，`高级`，将间距选择 `加宽` 或 `紧缩`，调整数值，即可："
   ]
  },
  {
   "cell_type": "markdown",
   "metadata": {},
   "source": [
    "![](imgs/v2-2587d07a23692c22c54a7e66747674ef_b.gif)"
   ]
  },
  {
   "cell_type": "markdown",
   "metadata": {},
   "source": [
    "## 调整行间距"
   ]
  },
  {
   "cell_type": "markdown",
   "metadata": {},
   "source": [
    "有时在其他地方复制过来的内容，粘贴到文档后，行间距非常宽，直接调整行间距有无效，怎么办？"
   ]
  },
  {
   "cell_type": "markdown",
   "metadata": {},
   "source": [
    "选中内容，点击 `开始`，`段落`，对话框中取消勾选 “如果定义了文档网格，则对齐到网络”，确定之后，再次设置行间距，即可更改："
   ]
  },
  {
   "cell_type": "markdown",
   "metadata": {},
   "source": [
    "![](imgs/v2-d54f1a34723622c996132fd991c5e7f8_b.gif)"
   ]
  },
  {
   "cell_type": "markdown",
   "metadata": {},
   "source": [
    "## 快捷键提示"
   ]
  },
  {
   "cell_type": "markdown",
   "metadata": {},
   "source": [
    "直接按 `Alt` 键，将在工具栏提示每个功能的快捷键，再按相应的提示键，即可快速进入相关功能。例如按 `Alt`，后再按 `P`，就进入了 `布局`："
   ]
  },
  {
   "cell_type": "markdown",
   "metadata": {},
   "source": [
    "![](imgs/2021-11-02_22-23-21.png)"
   ]
  },
  {
   "cell_type": "markdown",
   "metadata": {},
   "source": [
    "## 附录：Word 中键盘快捷方式"
   ]
  },
  {
   "cell_type": "markdown",
   "metadata": {},
   "source": [
    "许多用户发现将外部键盘与键盘快捷方式 Word 可帮助他们更高效地工作。 对于行动不便或者有视力障碍的用户，键盘快捷方式比触摸屏更方便，是使用鼠标的重要替代方式。"
   ]
  },
  {
   "cell_type": "markdown",
   "metadata": {},
   "source": [
    "注意: "
   ]
  },
  {
   "cell_type": "markdown",
   "metadata": {},
   "source": [
    "- 本主题中的这些快捷方式指的是美式键盘布局。 其他键盘布局的键可能与美式键盘上的键不完全对应。"
   ]
  },
  {
   "cell_type": "markdown",
   "metadata": {},
   "source": [
    "- 快捷方式中的加 (+) 表示需要同时按多个键。"
   ]
  },
  {
   "cell_type": "markdown",
   "metadata": {},
   "source": [
    "- 快捷方式中的 (，) 表示需要按多个键。"
   ]
  },
  {
   "cell_type": "markdown",
   "metadata": {},
   "source": [
    "### 常用快捷方式"
   ]
  },
  {
   "cell_type": "markdown",
   "metadata": {},
   "source": [
    "Microsoft Word 中最常用的快捷方式。"
   ]
  },
  {
   "cell_type": "markdown",
   "metadata": {},
   "source": [
    "打开文档。"
   ]
  },
  {
   "cell_type": "markdown",
   "metadata": {},
   "source": [
    "Ctrl+O"
   ]
  },
  {
   "cell_type": "markdown",
   "metadata": {},
   "source": [
    "创建新文档。"
   ]
  },
  {
   "cell_type": "markdown",
   "metadata": {},
   "source": [
    "Ctrl+N"
   ]
  },
  {
   "cell_type": "markdown",
   "metadata": {},
   "source": [
    "保存文档。"
   ]
  },
  {
   "cell_type": "markdown",
   "metadata": {},
   "source": [
    "Ctrl+S"
   ]
  },
  {
   "cell_type": "markdown",
   "metadata": {},
   "source": [
    "关闭文档"
   ]
  },
  {
   "cell_type": "markdown",
   "metadata": {},
   "source": [
    "Ctrl+W"
   ]
  },
  {
   "cell_type": "markdown",
   "metadata": {},
   "source": [
    "将所选内容剪切到剪贴板。"
   ]
  },
  {
   "cell_type": "markdown",
   "metadata": {},
   "source": [
    "Ctrl+X"
   ]
  },
  {
   "cell_type": "markdown",
   "metadata": {},
   "source": [
    "将所选内容复制到剪贴板。"
   ]
  },
  {
   "cell_type": "markdown",
   "metadata": {},
   "source": [
    "Ctrl+C"
   ]
  },
  {
   "cell_type": "markdown",
   "metadata": {},
   "source": [
    "粘贴剪贴板的内容。"
   ]
  },
  {
   "cell_type": "markdown",
   "metadata": {},
   "source": [
    "Ctrl+V"
   ]
  },
  {
   "cell_type": "markdown",
   "metadata": {},
   "source": [
    "选择所有文档内容。"
   ]
  },
  {
   "cell_type": "markdown",
   "metadata": {},
   "source": [
    "Ctrl+A"
   ]
  },
  {
   "cell_type": "markdown",
   "metadata": {},
   "source": [
    "对文本应用加粗格式。"
   ]
  },
  {
   "cell_type": "markdown",
   "metadata": {},
   "source": [
    "Ctrl+B"
   ]
  },
  {
   "cell_type": "markdown",
   "metadata": {},
   "source": [
    "对文本应用\"italic\"格式。"
   ]
  },
  {
   "cell_type": "markdown",
   "metadata": {},
   "source": [
    "Ctrl+I"
   ]
  },
  {
   "cell_type": "markdown",
   "metadata": {},
   "source": [
    "对文本应用下划线格式。"
   ]
  },
  {
   "cell_type": "markdown",
   "metadata": {},
   "source": [
    "Ctrl+U"
   ]
  },
  {
   "cell_type": "markdown",
   "metadata": {},
   "source": [
    "逐磅减小字号。"
   ]
  },
  {
   "cell_type": "markdown",
   "metadata": {},
   "source": [
    "Ctrl+["
   ]
  },
  {
   "cell_type": "markdown",
   "metadata": {},
   "source": [
    "逐磅增大字号。"
   ]
  },
  {
   "cell_type": "markdown",
   "metadata": {},
   "source": [
    "Ctrl+]"
   ]
  },
  {
   "cell_type": "markdown",
   "metadata": {},
   "source": [
    "使文本居中。"
   ]
  },
  {
   "cell_type": "markdown",
   "metadata": {},
   "source": [
    "Ctrl+E"
   ]
  },
  {
   "cell_type": "markdown",
   "metadata": {},
   "source": [
    "将文本左对齐。"
   ]
  },
  {
   "cell_type": "markdown",
   "metadata": {},
   "source": [
    "Ctrl+L"
   ]
  },
  {
   "cell_type": "markdown",
   "metadata": {},
   "source": [
    "将文本右对齐。"
   ]
  },
  {
   "cell_type": "markdown",
   "metadata": {},
   "source": [
    "Ctrl+R"
   ]
  },
  {
   "cell_type": "markdown",
   "metadata": {},
   "source": [
    "取消命令。"
   ]
  },
  {
   "cell_type": "markdown",
   "metadata": {},
   "source": [
    "Esc"
   ]
  },
  {
   "cell_type": "markdown",
   "metadata": {},
   "source": [
    "撤消上一操作。"
   ]
  },
  {
   "cell_type": "markdown",
   "metadata": {},
   "source": [
    "Ctrl+Z"
   ]
  },
  {
   "cell_type": "markdown",
   "metadata": {},
   "source": [
    "如果可能，请恢复上一操作。"
   ]
  },
  {
   "cell_type": "markdown",
   "metadata": {},
   "source": [
    "Ctrl+Y"
   ]
  },
  {
   "cell_type": "markdown",
   "metadata": {},
   "source": [
    "调整缩放缩放。"
   ]
  },
  {
   "cell_type": "markdown",
   "metadata": {},
   "source": [
    "按 Alt+W 再按 Q，然后在“缩放定位”对话框中按 Tab 浏览到所需值。"
   ]
  },
  {
   "cell_type": "markdown",
   "metadata": {},
   "source": [
    "拆分文档窗口。"
   ]
  },
  {
   "cell_type": "markdown",
   "metadata": {},
   "source": [
    "Ctrl+Alt+S"
   ]
  },
  {
   "cell_type": "markdown",
   "metadata": {},
   "source": [
    "撤消拆分文档窗口。"
   ]
  },
  {
   "cell_type": "markdown",
   "metadata": {},
   "source": [
    "Alt+Shift+C 或 Ctrl+Alt+S"
   ]
  },
  {
   "cell_type": "markdown",
   "metadata": {},
   "source": [
    "### 导航文档"
   ]
  },
  {
   "cell_type": "markdown",
   "metadata": {},
   "source": [
    "将光标向左移动一个字词。"
   ]
  },
  {
   "cell_type": "markdown",
   "metadata": {},
   "source": [
    "Ctrl+向左键"
   ]
  },
  {
   "cell_type": "markdown",
   "metadata": {},
   "source": [
    "将光标向右移动一个字词。"
   ]
  },
  {
   "cell_type": "markdown",
   "metadata": {},
   "source": [
    "Ctrl+向右键"
   ]
  },
  {
   "cell_type": "markdown",
   "metadata": {},
   "source": [
    "将光标向上移动一个段落。"
   ]
  },
  {
   "cell_type": "markdown",
   "metadata": {},
   "source": [
    "Ctrl+向上键"
   ]
  },
  {
   "cell_type": "markdown",
   "metadata": {},
   "source": [
    "将光标向下移动一个段落。"
   ]
  },
  {
   "cell_type": "markdown",
   "metadata": {},
   "source": [
    "Ctrl+向下键"
   ]
  },
  {
   "cell_type": "markdown",
   "metadata": {},
   "source": [
    "将光标移动到当前行的末尾。"
   ]
  },
  {
   "cell_type": "markdown",
   "metadata": {},
   "source": [
    "End"
   ]
  },
  {
   "cell_type": "markdown",
   "metadata": {},
   "source": [
    "将光标移动到当前行的开头。"
   ]
  },
  {
   "cell_type": "markdown",
   "metadata": {},
   "source": [
    "Home"
   ]
  },
  {
   "cell_type": "markdown",
   "metadata": {},
   "source": [
    "将光标移动到屏幕顶部。"
   ]
  },
  {
   "cell_type": "markdown",
   "metadata": {},
   "source": [
    "Ctrl+Alt+Page Up"
   ]
  },
  {
   "cell_type": "markdown",
   "metadata": {},
   "source": [
    "将光标移动到屏幕底部。"
   ]
  },
  {
   "cell_type": "markdown",
   "metadata": {},
   "source": [
    "Ctrl+Alt+Page Down"
   ]
  },
  {
   "cell_type": "markdown",
   "metadata": {},
   "source": [
    "将文档视图向上滚动一个屏幕来移动光标。"
   ]
  },
  {
   "cell_type": "markdown",
   "metadata": {},
   "source": [
    "Page up"
   ]
  },
  {
   "cell_type": "markdown",
   "metadata": {},
   "source": [
    "通过将文档视图向下滚动一个屏幕来移动光标。"
   ]
  },
  {
   "cell_type": "markdown",
   "metadata": {},
   "source": [
    "Page down"
   ]
  },
  {
   "cell_type": "markdown",
   "metadata": {},
   "source": [
    "将光标移动到下一页的顶部。"
   ]
  },
  {
   "cell_type": "markdown",
   "metadata": {},
   "source": [
    "Ctrl+Page Down"
   ]
  },
  {
   "cell_type": "markdown",
   "metadata": {},
   "source": [
    "将光标移动到上一页的顶部。"
   ]
  },
  {
   "cell_type": "markdown",
   "metadata": {},
   "source": [
    "Ctrl+Page up"
   ]
  },
  {
   "cell_type": "markdown",
   "metadata": {},
   "source": [
    "将光标移动到文档末尾。"
   ]
  },
  {
   "cell_type": "markdown",
   "metadata": {},
   "source": [
    "Ctrl+End"
   ]
  },
  {
   "cell_type": "markdown",
   "metadata": {},
   "source": [
    "将光标移动到文档的开头。"
   ]
  },
  {
   "cell_type": "markdown",
   "metadata": {},
   "source": [
    "Ctrl+Home"
   ]
  },
  {
   "cell_type": "markdown",
   "metadata": {},
   "source": [
    "将光标移动到上一修订的位置。"
   ]
  },
  {
   "cell_type": "markdown",
   "metadata": {},
   "source": [
    "Shift+F5"
   ]
  },
  {
   "cell_type": "markdown",
   "metadata": {},
   "source": [
    "将光标移动到上次关闭文档之前进行的最后一次修订的位置。"
   ]
  },
  {
   "cell_type": "markdown",
   "metadata": {},
   "source": [
    "在打开文档后立即 Shift+F5。"
   ]
  },
  {
   "cell_type": "markdown",
   "metadata": {},
   "source": [
    "环绕文本框或图像等浮动形状。"
   ]
  },
  {
   "cell_type": "markdown",
   "metadata": {},
   "source": [
    "按 Ctrl+Alt+5，然后反复按下 Tab 键"
   ]
  },
  {
   "cell_type": "markdown",
   "metadata": {},
   "source": [
    "退出浮动形状导航并返回普通导航。"
   ]
  },
  {
   "cell_type": "markdown",
   "metadata": {},
   "source": [
    "Esc"
   ]
  },
  {
   "cell_type": "markdown",
   "metadata": {},
   "source": [
    "显示 \"导航 \"任务窗格，在文档内容中搜索。"
   ]
  },
  {
   "cell_type": "markdown",
   "metadata": {},
   "source": [
    "Ctrl+F"
   ]
  },
  {
   "cell_type": "markdown",
   "metadata": {},
   "source": [
    "显示 \"定位\" 对话框，导航到特定页面、书签、脚注、表格、批注、图形或其他位置。"
   ]
  },
  {
   "cell_type": "markdown",
   "metadata": {},
   "source": [
    "Ctrl+G"
   ]
  },
  {
   "cell_type": "markdown",
   "metadata": {},
   "source": [
    "循环浏览之前对文档所做的更改的四个位置。"
   ]
  },
  {
   "cell_type": "markdown",
   "metadata": {},
   "source": [
    "Ctrl+Alt+Z"
   ]
  },
  {
   "cell_type": "markdown",
   "metadata": {},
   "source": [
    "### 预览和打印文档"
   ]
  },
  {
   "cell_type": "markdown",
   "metadata": {},
   "source": [
    "打印文档。"
   ]
  },
  {
   "cell_type": "markdown",
   "metadata": {},
   "source": [
    "Ctrl+P"
   ]
  },
  {
   "cell_type": "markdown",
   "metadata": {},
   "source": [
    "切换到打印预览。"
   ]
  },
  {
   "cell_type": "markdown",
   "metadata": {},
   "source": [
    "Ctrl+Alt+I"
   ]
  },
  {
   "cell_type": "markdown",
   "metadata": {},
   "source": [
    "在放大的预览页上移动。"
   ]
  },
  {
   "cell_type": "markdown",
   "metadata": {},
   "source": [
    "箭头键"
   ]
  },
  {
   "cell_type": "markdown",
   "metadata": {},
   "source": [
    "在缩小显示比例时逐页翻阅预览页。"
   ]
  },
  {
   "cell_type": "markdown",
   "metadata": {},
   "source": [
    "Page Up 或 Page Down"
   ]
  },
  {
   "cell_type": "markdown",
   "metadata": {},
   "source": [
    "在缩小显示比例时移至预览首页。"
   ]
  },
  {
   "cell_type": "markdown",
   "metadata": {},
   "source": [
    "Ctrl+Home"
   ]
  },
  {
   "cell_type": "markdown",
   "metadata": {},
   "source": [
    "在缩小显示比例时移至最后一张预览页。"
   ]
  },
  {
   "cell_type": "markdown",
   "metadata": {},
   "source": [
    "Ctrl+End"
   ]
  },
  {
   "cell_type": "markdown",
   "metadata": {},
   "source": [
    "### 选定文字和图形"
   ]
  },
  {
   "cell_type": "markdown",
   "metadata": {},
   "source": [
    "选择文本。"
   ]
  },
  {
   "cell_type": "markdown",
   "metadata": {},
   "source": [
    "Shift+箭头键"
   ]
  },
  {
   "cell_type": "markdown",
   "metadata": {},
   "source": [
    "选择左侧的单词。"
   ]
  },
  {
   "cell_type": "markdown",
   "metadata": {},
   "source": [
    "Ctrl+Shift+向左键"
   ]
  },
  {
   "cell_type": "markdown",
   "metadata": {},
   "source": [
    "选择右侧单词。"
   ]
  },
  {
   "cell_type": "markdown",
   "metadata": {},
   "source": [
    "Ctrl+Shift+向右键"
   ]
  },
  {
   "cell_type": "markdown",
   "metadata": {},
   "source": [
    "从当前位置选择到当前行的开头。"
   ]
  },
  {
   "cell_type": "markdown",
   "metadata": {},
   "source": [
    "Shift+Home"
   ]
  },
  {
   "cell_type": "markdown",
   "metadata": {},
   "source": [
    "从当前位置选择到当前行的末尾。"
   ]
  },
  {
   "cell_type": "markdown",
   "metadata": {},
   "source": [
    "Shift+End"
   ]
  },
  {
   "cell_type": "markdown",
   "metadata": {},
   "source": [
    "从当前位置选择到当前段落的开头。"
   ]
  },
  {
   "cell_type": "markdown",
   "metadata": {},
   "source": [
    "Ctrl+Shift+向上箭头键"
   ]
  },
  {
   "cell_type": "markdown",
   "metadata": {},
   "source": [
    "从当前位置选择到当前段落的末尾。"
   ]
  },
  {
   "cell_type": "markdown",
   "metadata": {},
   "source": [
    "Ctrl+Shift+向下箭头键"
   ]
  },
  {
   "cell_type": "markdown",
   "metadata": {},
   "source": [
    "从当前位置选择到屏幕顶部。"
   ]
  },
  {
   "cell_type": "markdown",
   "metadata": {},
   "source": [
    "Shift+Page up"
   ]
  },
  {
   "cell_type": "markdown",
   "metadata": {},
   "source": [
    "从当前位置选择到屏幕底部。"
   ]
  },
  {
   "cell_type": "markdown",
   "metadata": {},
   "source": [
    "Shift+Page Down"
   ]
  },
  {
   "cell_type": "markdown",
   "metadata": {},
   "source": [
    "从当前位置选择文档开头。"
   ]
  },
  {
   "cell_type": "markdown",
   "metadata": {},
   "source": [
    "Ctrl+Shift+Home"
   ]
  },
  {
   "cell_type": "markdown",
   "metadata": {},
   "source": [
    "从文档的当前位置选择到结尾。"
   ]
  },
  {
   "cell_type": "markdown",
   "metadata": {},
   "source": [
    "Ctrl+Shift+End"
   ]
  },
  {
   "cell_type": "markdown",
   "metadata": {},
   "source": [
    "从当前位置选择窗口底部。"
   ]
  },
  {
   "cell_type": "markdown",
   "metadata": {},
   "source": [
    "Ctrl+Alt+Shift+Page Down"
   ]
  },
  {
   "cell_type": "markdown",
   "metadata": {},
   "source": [
    "选择所有文档内容。"
   ]
  },
  {
   "cell_type": "markdown",
   "metadata": {},
   "source": [
    "Ctrl+A"
   ]
  },
  {
   "cell_type": "markdown",
   "metadata": {},
   "source": [
    "### 编辑文本和图形"
   ]
  },
  {
   "cell_type": "markdown",
   "metadata": {},
   "source": [
    "向左删除一个字词。"
   ]
  },
  {
   "cell_type": "markdown",
   "metadata": {},
   "source": [
    "Ctrl+Backspace"
   ]
  },
  {
   "cell_type": "markdown",
   "metadata": {},
   "source": [
    "向右删除一个字词。"
   ]
  },
  {
   "cell_type": "markdown",
   "metadata": {},
   "source": [
    "Ctrl+Delete"
   ]
  },
  {
   "cell_type": "markdown",
   "metadata": {},
   "source": [
    "打开\" 剪贴板 \"任务窗格并启用 Office 剪贴板，这样，你才能在应用之间复制 Microsoft Office 内容。"
   ]
  },
  {
   "cell_type": "markdown",
   "metadata": {},
   "source": [
    "Alt+H、F、O"
   ]
  },
  {
   "cell_type": "markdown",
   "metadata": {},
   "source": [
    "将所选内容剪切到剪贴板。"
   ]
  },
  {
   "cell_type": "markdown",
   "metadata": {},
   "source": [
    "Ctrl+X"
   ]
  },
  {
   "cell_type": "markdown",
   "metadata": {},
   "source": [
    "将所选内容复制到剪贴板。"
   ]
  },
  {
   "cell_type": "markdown",
   "metadata": {},
   "source": [
    "Ctrl+C"
   ]
  },
  {
   "cell_type": "markdown",
   "metadata": {},
   "source": [
    "粘贴剪贴板的内容。"
   ]
  },
  {
   "cell_type": "markdown",
   "metadata": {},
   "source": [
    "Ctrl+V"
   ]
  },
  {
   "cell_type": "markdown",
   "metadata": {},
   "source": [
    "将所选内容移动到特定位置。"
   ]
  },
  {
   "cell_type": "markdown",
   "metadata": {},
   "source": [
    "F2，将光标移动到目标，然后按 Enter。"
   ]
  },
  {
   "cell_type": "markdown",
   "metadata": {},
   "source": [
    "将所选内容复制到特定位置。"
   ]
  },
  {
   "cell_type": "markdown",
   "metadata": {},
   "source": [
    "Shift+F2，将光标移动到目标，然后按 Enter。"
   ]
  },
  {
   "cell_type": "markdown",
   "metadata": {},
   "source": [
    "使用所选内容定义自动图文集块。"
   ]
  },
  {
   "cell_type": "markdown",
   "metadata": {},
   "source": [
    "Alt+F3"
   ]
  },
  {
   "cell_type": "markdown",
   "metadata": {},
   "source": [
    "插入自动图文集块。"
   ]
  },
  {
   "cell_type": "markdown",
   "metadata": {},
   "source": [
    "AutoText 块的前几个字符，然后在出现屏幕提示时按 Enter。"
   ]
  },
  {
   "cell_type": "markdown",
   "metadata": {},
   "source": [
    "将所选内容剪切到\"峰值\"。"
   ]
  },
  {
   "cell_type": "markdown",
   "metadata": {},
   "source": [
    "Ctrl+F3"
   ]
  },
  {
   "cell_type": "markdown",
   "metadata": {},
   "source": [
    "粘贴 Spike 的内容。"
   ]
  },
  {
   "cell_type": "markdown",
   "metadata": {},
   "source": [
    "Ctrl+Shift+F3"
   ]
  },
  {
   "cell_type": "markdown",
   "metadata": {},
   "source": [
    "复制所选格式。"
   ]
  },
  {
   "cell_type": "markdown",
   "metadata": {},
   "source": [
    "Ctrl+Shift+C"
   ]
  },
  {
   "cell_type": "markdown",
   "metadata": {},
   "source": [
    "粘贴所选格式。"
   ]
  },
  {
   "cell_type": "markdown",
   "metadata": {},
   "source": [
    "Ctrl+Shift+V"
   ]
  },
  {
   "cell_type": "markdown",
   "metadata": {},
   "source": [
    "复制文档中上一节所使用的页眉或页脚。"
   ]
  },
  {
   "cell_type": "markdown",
   "metadata": {},
   "source": [
    "Alt+Shift+R"
   ]
  },
  {
   "cell_type": "markdown",
   "metadata": {},
   "source": [
    "显示 \"替换 \"对话框，查找和替换文本、特定格式或特殊项目。"
   ]
  },
  {
   "cell_type": "markdown",
   "metadata": {},
   "source": [
    "Ctrl+H"
   ]
  },
  {
   "cell_type": "markdown",
   "metadata": {},
   "source": [
    "显示 \"对象 \"对话框，将文件对象插入文档。"
   ]
  },
  {
   "cell_type": "markdown",
   "metadata": {},
   "source": [
    "Alt+N、J、J"
   ]
  },
  {
   "cell_type": "markdown",
   "metadata": {},
   "source": [
    "插入 SmartArt 图形。"
   ]
  },
  {
   "cell_type": "markdown",
   "metadata": {},
   "source": [
    "Alt+N、M"
   ]
  },
  {
   "cell_type": "markdown",
   "metadata": {},
   "source": [
    "插入艺术字图形。"
   ]
  },
  {
   "cell_type": "markdown",
   "metadata": {},
   "source": [
    "Alt+N、W"
   ]
  },
  {
   "cell_type": "markdown",
   "metadata": {},
   "source": [
    "将段落居中。"
   ]
  },
  {
   "cell_type": "markdown",
   "metadata": {},
   "source": [
    "Ctrl+E"
   ]
  },
  {
   "cell_type": "markdown",
   "metadata": {},
   "source": [
    "使段落两端对齐。"
   ]
  },
  {
   "cell_type": "markdown",
   "metadata": {},
   "source": [
    "Ctrl+J"
   ]
  },
  {
   "cell_type": "markdown",
   "metadata": {},
   "source": [
    "将段落左对齐。"
   ]
  },
  {
   "cell_type": "markdown",
   "metadata": {},
   "source": [
    "Ctrl+L"
   ]
  },
  {
   "cell_type": "markdown",
   "metadata": {},
   "source": [
    "将段落右对齐。"
   ]
  },
  {
   "cell_type": "markdown",
   "metadata": {},
   "source": [
    "Ctrl+R"
   ]
  },
  {
   "cell_type": "markdown",
   "metadata": {},
   "source": [
    "缩进段落。"
   ]
  },
  {
   "cell_type": "markdown",
   "metadata": {},
   "source": [
    "Ctrl+M"
   ]
  },
  {
   "cell_type": "markdown",
   "metadata": {},
   "source": [
    "删除段落缩进。"
   ]
  },
  {
   "cell_type": "markdown",
   "metadata": {},
   "source": [
    "Ctrl+Shift+M"
   ]
  },
  {
   "cell_type": "markdown",
   "metadata": {},
   "source": [
    "创建悬挂缩进。"
   ]
  },
  {
   "cell_type": "markdown",
   "metadata": {},
   "source": [
    "Ctrl+T"
   ]
  },
  {
   "cell_type": "markdown",
   "metadata": {},
   "source": [
    "删除悬挂缩进。"
   ]
  },
  {
   "cell_type": "markdown",
   "metadata": {},
   "source": [
    "Ctrl+Shift+T"
   ]
  },
  {
   "cell_type": "markdown",
   "metadata": {},
   "source": [
    "删除段落格式。"
   ]
  },
  {
   "cell_type": "markdown",
   "metadata": {},
   "source": [
    "Ctrl+Q"
   ]
  },
  {
   "cell_type": "markdown",
   "metadata": {},
   "source": [
    "对段落应用单倍行距。"
   ]
  },
  {
   "cell_type": "markdown",
   "metadata": {},
   "source": [
    "Ctrl+1"
   ]
  },
  {
   "cell_type": "markdown",
   "metadata": {},
   "source": [
    "对段落应用双倍行距。"
   ]
  },
  {
   "cell_type": "markdown",
   "metadata": {},
   "source": [
    "Ctrl+2"
   ]
  },
  {
   "cell_type": "markdown",
   "metadata": {},
   "source": [
    "对段落应用 1.5 行距。"
   ]
  },
  {
   "cell_type": "markdown",
   "metadata": {},
   "source": [
    "Ctrl+5"
   ]
  },
  {
   "cell_type": "markdown",
   "metadata": {},
   "source": [
    "在段落之前添加或删除空格。"
   ]
  },
  {
   "cell_type": "markdown",
   "metadata": {},
   "source": [
    "Ctrl+0（零）"
   ]
  },
  {
   "cell_type": "markdown",
   "metadata": {},
   "source": [
    "启用自动格式。"
   ]
  },
  {
   "cell_type": "markdown",
   "metadata": {},
   "source": [
    "Ctrl+Alt+K"
   ]
  },
  {
   "cell_type": "markdown",
   "metadata": {},
   "source": [
    "应用\" 普通\" 样式。"
   ]
  },
  {
   "cell_type": "markdown",
   "metadata": {},
   "source": [
    "Ctrl+Shift+N"
   ]
  },
  {
   "cell_type": "markdown",
   "metadata": {},
   "source": [
    "应用\" 标题 1\" 样式。"
   ]
  },
  {
   "cell_type": "markdown",
   "metadata": {},
   "source": [
    "Ctrl+Alt+1"
   ]
  },
  {
   "cell_type": "markdown",
   "metadata": {},
   "source": [
    "应用\" 标题 2\" 样式。"
   ]
  },
  {
   "cell_type": "markdown",
   "metadata": {},
   "source": [
    "Ctrl+Alt+2"
   ]
  },
  {
   "cell_type": "markdown",
   "metadata": {},
   "source": [
    "应用\" 标题 3\" 样式。"
   ]
  },
  {
   "cell_type": "markdown",
   "metadata": {},
   "source": [
    "Ctrl+Alt+3"
   ]
  },
  {
   "cell_type": "markdown",
   "metadata": {},
   "source": [
    "显示\" 应用样式\" 任务窗格。"
   ]
  },
  {
   "cell_type": "markdown",
   "metadata": {},
   "source": [
    "Ctrl+Shift+S"
   ]
  },
  {
   "cell_type": "markdown",
   "metadata": {},
   "source": [
    "显示\" 样式\" 任务窗格。"
   ]
  },
  {
   "cell_type": "markdown",
   "metadata": {},
   "source": [
    "Ctrl+Alt+Shift+S"
   ]
  },
  {
   "cell_type": "markdown",
   "metadata": {},
   "source": [
    "显示\" 字体\" 对话框。"
   ]
  },
  {
   "cell_type": "markdown",
   "metadata": {},
   "source": [
    "Ctrl+D"
   ]
  },
  {
   "cell_type": "markdown",
   "metadata": {},
   "source": [
    "Ctrl+Shift+F"
   ]
  },
  {
   "cell_type": "markdown",
   "metadata": {},
   "source": [
    "增大字号。"
   ]
  },
  {
   "cell_type": "markdown",
   "metadata": {},
   "source": [
    "Ctrl+Shift+右尖括号 (>)"
   ]
  },
  {
   "cell_type": "markdown",
   "metadata": {},
   "source": [
    "减小字号。"
   ]
  },
  {
   "cell_type": "markdown",
   "metadata": {},
   "source": [
    "Ctrl+Shift+左尖括号 (<)"
   ]
  },
  {
   "cell_type": "markdown",
   "metadata": {},
   "source": [
    "逐磅增大字号。"
   ]
  },
  {
   "cell_type": "markdown",
   "metadata": {},
   "source": [
    "Ctrl+右方括号 (])"
   ]
  },
  {
   "cell_type": "markdown",
   "metadata": {},
   "source": [
    "逐磅减小字号。"
   ]
  },
  {
   "cell_type": "markdown",
   "metadata": {},
   "source": [
    "Ctrl+左中括号 ([)"
   ]
  },
  {
   "cell_type": "markdown",
   "metadata": {},
   "source": [
    "在大写、小写和标题大小写之间切换文本。"
   ]
  },
  {
   "cell_type": "markdown",
   "metadata": {},
   "source": [
    "Shift+F3"
   ]
  },
  {
   "cell_type": "markdown",
   "metadata": {},
   "source": [
    "将文本更改为全部大写。"
   ]
  },
  {
   "cell_type": "markdown",
   "metadata": {},
   "source": [
    "Ctrl+Shift+A"
   ]
  },
  {
   "cell_type": "markdown",
   "metadata": {},
   "source": [
    "隐藏所选文本。"
   ]
  },
  {
   "cell_type": "markdown",
   "metadata": {},
   "source": [
    "Ctrl+Shift+H"
   ]
  },
  {
   "cell_type": "markdown",
   "metadata": {},
   "source": [
    "应用加粗格式。"
   ]
  },
  {
   "cell_type": "markdown",
   "metadata": {},
   "source": [
    "Ctrl+B"
   ]
  },
  {
   "cell_type": "markdown",
   "metadata": {},
   "source": [
    "应用下划线格式。"
   ]
  },
  {
   "cell_type": "markdown",
   "metadata": {},
   "source": [
    "Ctrl+U"
   ]
  },
  {
   "cell_type": "markdown",
   "metadata": {},
   "source": [
    "对单词应用下划线格式，但不应用空格。"
   ]
  },
  {
   "cell_type": "markdown",
   "metadata": {},
   "source": [
    "Ctrl+Shift+W"
   ]
  },
  {
   "cell_type": "markdown",
   "metadata": {},
   "source": [
    "应用双下划线格式。"
   ]
  },
  {
   "cell_type": "markdown",
   "metadata": {},
   "source": [
    "Ctrl+Shift+D"
   ]
  },
  {
   "cell_type": "markdown",
   "metadata": {},
   "source": [
    "应用斜体格式。"
   ]
  },
  {
   "cell_type": "markdown",
   "metadata": {},
   "source": [
    "Ctrl+I"
   ]
  },
  {
   "cell_type": "markdown",
   "metadata": {},
   "source": [
    "应用小型大写格式。"
   ]
  },
  {
   "cell_type": "markdown",
   "metadata": {},
   "source": [
    "Ctrl+Shift+K"
   ]
  },
  {
   "cell_type": "markdown",
   "metadata": {},
   "source": [
    "应用下标格式。"
   ]
  },
  {
   "cell_type": "markdown",
   "metadata": {},
   "source": [
    "Ctrl+等号 (=)"
   ]
  },
  {
   "cell_type": "markdown",
   "metadata": {},
   "source": [
    "应用上标格式。"
   ]
  },
  {
   "cell_type": "markdown",
   "metadata": {},
   "source": [
    "Ctrl+Shift+加号 (+)"
   ]
  },
  {
   "cell_type": "markdown",
   "metadata": {},
   "source": [
    "删除手动设置的字符格式。"
   ]
  },
  {
   "cell_type": "markdown",
   "metadata": {},
   "source": [
    "Ctrl+Spacebar"
   ]
  },
  {
   "cell_type": "markdown",
   "metadata": {},
   "source": [
    "将所选文本更改为\"符号\"字体。"
   ]
  },
  {
   "cell_type": "markdown",
   "metadata": {},
   "source": [
    "Ctrl+Shift+Q"
   ]
  },
  {
   "cell_type": "markdown",
   "metadata": {},
   "source": [
    "显示所有非打印字符。"
   ]
  },
  {
   "cell_type": "markdown",
   "metadata": {},
   "source": [
    "Ctrl+Shift+8 (不使用数字键盘)"
   ]
  },
  {
   "cell_type": "markdown",
   "metadata": {},
   "source": [
    "显示\" 显示格式\"任务 窗格。"
   ]
  },
  {
   "cell_type": "markdown",
   "metadata": {},
   "source": [
    "Shift+F1"
   ]
  },
  {
   "cell_type": "markdown",
   "metadata": {},
   "source": [
    "插入换行符。"
   ]
  },
  {
   "cell_type": "markdown",
   "metadata": {},
   "source": [
    "Shift+Enter"
   ]
  },
  {
   "cell_type": "markdown",
   "metadata": {},
   "source": [
    "插入分页符。"
   ]
  },
  {
   "cell_type": "markdown",
   "metadata": {},
   "source": [
    "Ctrl+Enter"
   ]
  },
  {
   "cell_type": "markdown",
   "metadata": {},
   "source": [
    "插入分栏符。"
   ]
  },
  {
   "cell_type": "markdown",
   "metadata": {},
   "source": [
    "Ctrl+Shift+Enter"
   ]
  },
  {
   "cell_type": "markdown",
   "metadata": {},
   "source": [
    "插入长划线 ( -) 。"
   ]
  },
  {
   "cell_type": "markdown",
   "metadata": {},
   "source": [
    "Ctrl+Alt+减号 (数字键盘上的)"
   ]
  },
  {
   "cell_type": "markdown",
   "metadata": {},
   "source": [
    "插入短划线 () 。"
   ]
  },
  {
   "cell_type": "markdown",
   "metadata": {},
   "source": [
    "数字小键盘 (上的 Ctrl+减号)"
   ]
  },
  {
   "cell_type": "markdown",
   "metadata": {},
   "source": [
    "插入可选连字符。"
   ]
  },
  {
   "cell_type": "markdown",
   "metadata": {},
   "source": [
    "Ctrl+连字符 (-)"
   ]
  },
  {
   "cell_type": "markdown",
   "metadata": {},
   "source": [
    "插入不间断连字符。"
   ]
  },
  {
   "cell_type": "markdown",
   "metadata": {},
   "source": [
    "Ctrl+Shift+连字符 (-)"
   ]
  },
  {
   "cell_type": "markdown",
   "metadata": {},
   "source": [
    "插入不间断空格。"
   ]
  },
  {
   "cell_type": "markdown",
   "metadata": {},
   "source": [
    "Ctrl+Shift+空格键"
   ]
  },
  {
   "cell_type": "markdown",
   "metadata": {},
   "source": [
    "插入版权符号 (©) 。"
   ]
  },
  {
   "cell_type": "markdown",
   "metadata": {},
   "source": [
    "Ctrl+Alt+C"
   ]
  },
  {
   "cell_type": "markdown",
   "metadata": {},
   "source": [
    "在\"域名\"中插入 (®) 。"
   ]
  },
  {
   "cell_type": "markdown",
   "metadata": {},
   "source": [
    "Ctrl+Alt+R"
   ]
  },
  {
   "cell_type": "markdown",
   "metadata": {},
   "source": [
    "插入商标符号 (™) 。"
   ]
  },
  {
   "cell_type": "markdown",
   "metadata": {},
   "source": [
    "Ctrl+Alt+T"
   ]
  },
  {
   "cell_type": "markdown",
   "metadata": {},
   "source": [
    "插入省略号 (...)"
   ]
  },
  {
   "cell_type": "markdown",
   "metadata": {},
   "source": [
    "Ctrl+Alt+Period (.)"
   ]
  },
  {
   "cell_type": "markdown",
   "metadata": {},
   "source": [
    "插入指定的 Unicode（十六进制）字符代码对应的 Unicode 字符。 例如，要插入欧元货币符号 (欧洲货币符号)，请键入 20AC，然后在按住 Alt 的同时按 X。提示: 若要找出所选字符的 Unicode 字符代码，请按 Alt+X。"
   ]
  },
  {
   "cell_type": "markdown",
   "metadata": {},
   "source": [
    "字符代码，然后按 Alt+X"
   ]
  },
  {
   "cell_type": "markdown",
   "metadata": {},
   "source": [
    "插入指定的 ANSI（小数）字符代码对应的 ANSI 字符。 例如，若要插入欧元货币符号，请在按住 Alt 的同时按数字拨号键盘上的 0128。"
   ]
  },
  {
   "cell_type": "markdown",
   "metadata": {},
   "source": [
    "Alt+字符代码（数字拨号键盘上）"
   ]
  },
  {
   "cell_type": "markdown",
   "metadata": {},
   "source": [
    "### 使用 Web 内容"
   ]
  },
  {
   "cell_type": "markdown",
   "metadata": {},
   "source": [
    "插入超链接。"
   ]
  },
  {
   "cell_type": "markdown",
   "metadata": {},
   "source": [
    "Ctrl+K"
   ]
  },
  {
   "cell_type": "markdown",
   "metadata": {},
   "source": [
    "返回一页。"
   ]
  },
  {
   "cell_type": "markdown",
   "metadata": {},
   "source": [
    "Alt+向左箭头键"
   ]
  },
  {
   "cell_type": "markdown",
   "metadata": {},
   "source": [
    "前进一页。"
   ]
  },
  {
   "cell_type": "markdown",
   "metadata": {},
   "source": [
    "Alt+向右箭头键"
   ]
  },
  {
   "cell_type": "markdown",
   "metadata": {},
   "source": [
    "刷新页面。"
   ]
  },
  {
   "cell_type": "markdown",
   "metadata": {},
   "source": [
    "F9"
   ]
  },
  {
   "cell_type": "markdown",
   "metadata": {},
   "source": [
    "### 使用表格"
   ]
  },
  {
   "cell_type": "markdown",
   "metadata": {},
   "source": [
    "移动到行中的下一个单元格，然后选择其内容。"
   ]
  },
  {
   "cell_type": "markdown",
   "metadata": {},
   "source": [
    "Tab 键"
   ]
  },
  {
   "cell_type": "markdown",
   "metadata": {},
   "source": [
    "移动到行中的上一个单元格，然后选择其内容。"
   ]
  },
  {
   "cell_type": "markdown",
   "metadata": {},
   "source": [
    "Shift+Tab"
   ]
  },
  {
   "cell_type": "markdown",
   "metadata": {},
   "source": [
    "移到行中的第一个单元格。"
   ]
  },
  {
   "cell_type": "markdown",
   "metadata": {},
   "source": [
    "Alt+Home"
   ]
  },
  {
   "cell_type": "markdown",
   "metadata": {},
   "source": [
    "移到行中的最后一个单元格。"
   ]
  },
  {
   "cell_type": "markdown",
   "metadata": {},
   "source": [
    "Alt+End"
   ]
  },
  {
   "cell_type": "markdown",
   "metadata": {},
   "source": [
    "移到列的第一个单元格。"
   ]
  },
  {
   "cell_type": "markdown",
   "metadata": {},
   "source": [
    "Alt+Page up"
   ]
  },
  {
   "cell_type": "markdown",
   "metadata": {},
   "source": [
    "移到列中的最后一个单元格。"
   ]
  },
  {
   "cell_type": "markdown",
   "metadata": {},
   "source": [
    "Alt+Page Down"
   ]
  },
  {
   "cell_type": "markdown",
   "metadata": {},
   "source": [
    "移到上一行。"
   ]
  },
  {
   "cell_type": "markdown",
   "metadata": {},
   "source": [
    "向上键"
   ]
  },
  {
   "cell_type": "markdown",
   "metadata": {},
   "source": [
    "移至下一行。"
   ]
  },
  {
   "cell_type": "markdown",
   "metadata": {},
   "source": [
    "向下键"
   ]
  },
  {
   "cell_type": "markdown",
   "metadata": {},
   "source": [
    "向上移动一行。"
   ]
  },
  {
   "cell_type": "markdown",
   "metadata": {},
   "source": [
    "Alt+Shift+向上箭头键"
   ]
  },
  {
   "cell_type": "markdown",
   "metadata": {},
   "source": [
    "向下移动一行。"
   ]
  },
  {
   "cell_type": "markdown",
   "metadata": {},
   "source": [
    "Alt+Shift+向下键"
   ]
  },
  {
   "cell_type": "markdown",
   "metadata": {},
   "source": [
    "选择下一个单元格中的内容。"
   ]
  },
  {
   "cell_type": "markdown",
   "metadata": {},
   "source": [
    "Tab 键"
   ]
  },
  {
   "cell_type": "markdown",
   "metadata": {},
   "source": [
    "选择上一单元格中的内容。"
   ]
  },
  {
   "cell_type": "markdown",
   "metadata": {},
   "source": [
    "Shift+Tab"
   ]
  },
  {
   "cell_type": "markdown",
   "metadata": {},
   "source": [
    "将所选内容扩展到相邻单元格。"
   ]
  },
  {
   "cell_type": "markdown",
   "metadata": {},
   "source": [
    "Shift+箭头键"
   ]
  },
  {
   "cell_type": "markdown",
   "metadata": {},
   "source": [
    "选定列。"
   ]
  },
  {
   "cell_type": "markdown",
   "metadata": {},
   "source": [
    "选择列的顶部或底部单元格，然后按 Shift+向上键或向下键"
   ]
  },
  {
   "cell_type": "markdown",
   "metadata": {},
   "source": [
    "选择一行。"
   ]
  },
  {
   "cell_type": "markdown",
   "metadata": {},
   "source": [
    "选择行中的第一个或最后一个单元格，然后按 Shift+Alt+End 或 Home。"
   ]
  },
  {
   "cell_type": "markdown",
   "metadata": {},
   "source": [
    "选择整个表。"
   ]
  },
  {
   "cell_type": "markdown",
   "metadata": {},
   "source": [
    "数字键盘上的 Alt+5（关闭 Num Lock）"
   ]
  },
  {
   "cell_type": "markdown",
   "metadata": {},
   "source": [
    "在单元格中插入新段落。"
   ]
  },
  {
   "cell_type": "markdown",
   "metadata": {},
   "source": [
    "Enter"
   ]
  },
  {
   "cell_type": "markdown",
   "metadata": {},
   "source": [
    "在单元格中插入制表符。"
   ]
  },
  {
   "cell_type": "markdown",
   "metadata": {},
   "source": [
    "Ctrl+Tab"
   ]
  },
  {
   "cell_type": "markdown",
   "metadata": {},
   "source": [
    "### 审阅文档"
   ]
  },
  {
   "cell_type": "markdown",
   "metadata": {},
   "source": [
    "插入批注。"
   ]
  },
  {
   "cell_type": "markdown",
   "metadata": {},
   "source": [
    "Ctrl+Alt+M"
   ]
  },
  {
   "cell_type": "markdown",
   "metadata": {},
   "source": [
    "打开或关闭修订。"
   ]
  },
  {
   "cell_type": "markdown",
   "metadata": {},
   "source": [
    "Ctrl+Shift+E"
   ]
  },
  {
   "cell_type": "markdown",
   "metadata": {},
   "source": [
    "关闭\"审阅窗格\"。"
   ]
  },
  {
   "cell_type": "markdown",
   "metadata": {},
   "source": [
    "Alt+Shift+C"
   ]
  },
  {
   "cell_type": "markdown",
   "metadata": {},
   "source": [
    "### 使用引用、引文和索引"
   ]
  },
  {
   "cell_type": "markdown",
   "metadata": {},
   "source": [
    "使用以下快捷方式添加对文档的引用，例如目录、脚注和引文。"
   ]
  },
  {
   "cell_type": "markdown",
   "metadata": {},
   "source": [
    "标记目录项。"
   ]
  },
  {
   "cell_type": "markdown",
   "metadata": {},
   "source": [
    "Alt+Shift+O"
   ]
  },
  {
   "cell_type": "markdown",
   "metadata": {},
   "source": [
    "标记引文目录项（引文）。"
   ]
  },
  {
   "cell_type": "markdown",
   "metadata": {},
   "source": [
    "Alt+Shift+I"
   ]
  },
  {
   "cell_type": "markdown",
   "metadata": {},
   "source": [
    "选择引文选项。"
   ]
  },
  {
   "cell_type": "markdown",
   "metadata": {},
   "source": [
    "Alt + Shift + F12， 空格键"
   ]
  },
  {
   "cell_type": "markdown",
   "metadata": {},
   "source": [
    "插入索引项。"
   ]
  },
  {
   "cell_type": "markdown",
   "metadata": {},
   "source": [
    "Alt+Shift+X"
   ]
  },
  {
   "cell_type": "markdown",
   "metadata": {},
   "source": [
    "插入脚注。"
   ]
  },
  {
   "cell_type": "markdown",
   "metadata": {},
   "source": [
    "Ctrl+Alt+F"
   ]
  },
  {
   "cell_type": "markdown",
   "metadata": {},
   "source": [
    "插入尾注。"
   ]
  },
  {
   "cell_type": "markdown",
   "metadata": {},
   "source": [
    "Ctrl+Alt+D"
   ]
  },
  {
   "cell_type": "markdown",
   "metadata": {},
   "source": [
    "转到下一个脚注。"
   ]
  },
  {
   "cell_type": "markdown",
   "metadata": {},
   "source": [
    "Alt+Shift+右尖括号 (>)"
   ]
  },
  {
   "cell_type": "markdown",
   "metadata": {},
   "source": [
    "转到上一个脚注。"
   ]
  },
  {
   "cell_type": "markdown",
   "metadata": {},
   "source": [
    "Alt+Shift+左尖括号 (<)"
   ]
  },
  {
   "cell_type": "markdown",
   "metadata": {},
   "source": [
    "### 使用邮件合并和域"
   ]
  },
  {
   "cell_type": "markdown",
   "metadata": {},
   "source": [
    "若要使用以下键盘快捷方式，必须选中 \"邮件 \"功能区选项卡。 若要选择\" 邮件\" 选项卡，请按 Alt+M。"
   ]
  },
  {
   "cell_type": "markdown",
   "metadata": {},
   "source": [
    "预览邮件合并。"
   ]
  },
  {
   "cell_type": "markdown",
   "metadata": {},
   "source": [
    "Alt+Shift+K"
   ]
  },
  {
   "cell_type": "markdown",
   "metadata": {},
   "source": [
    "合并文档。"
   ]
  },
  {
   "cell_type": "markdown",
   "metadata": {},
   "source": [
    "Alt+Shift+N"
   ]
  },
  {
   "cell_type": "markdown",
   "metadata": {},
   "source": [
    "打印已合并的文档。"
   ]
  },
  {
   "cell_type": "markdown",
   "metadata": {},
   "source": [
    "Alt+Shift+M"
   ]
  },
  {
   "cell_type": "markdown",
   "metadata": {},
   "source": [
    "编辑邮件合并数据文档。"
   ]
  },
  {
   "cell_type": "markdown",
   "metadata": {},
   "source": [
    "Alt+Shift+E"
   ]
  },
  {
   "cell_type": "markdown",
   "metadata": {},
   "source": [
    "插入合并域。"
   ]
  },
  {
   "cell_type": "markdown",
   "metadata": {},
   "source": [
    "Alt+Shift+F"
   ]
  },
  {
   "cell_type": "markdown",
   "metadata": {},
   "source": [
    "插入“日期”域。"
   ]
  },
  {
   "cell_type": "markdown",
   "metadata": {},
   "source": [
    "Alt+Shift+D"
   ]
  },
  {
   "cell_type": "markdown",
   "metadata": {},
   "source": [
    "插入 ListNum 域。"
   ]
  },
  {
   "cell_type": "markdown",
   "metadata": {},
   "source": [
    "Ctrl+Alt+L"
   ]
  },
  {
   "cell_type": "markdown",
   "metadata": {},
   "source": [
    "插入页字段。"
   ]
  },
  {
   "cell_type": "markdown",
   "metadata": {},
   "source": [
    "Alt+Shift+P"
   ]
  },
  {
   "cell_type": "markdown",
   "metadata": {},
   "source": [
    "插入时间域。"
   ]
  },
  {
   "cell_type": "markdown",
   "metadata": {},
   "source": [
    "Alt+Shift+T"
   ]
  },
  {
   "cell_type": "markdown",
   "metadata": {},
   "source": [
    "插入空域。"
   ]
  },
  {
   "cell_type": "markdown",
   "metadata": {},
   "source": [
    "Ctrl+F9"
   ]
  },
  {
   "cell_type": "markdown",
   "metadata": {},
   "source": [
    "更新 Microsoft Word 文档中的链接信息。"
   ]
  },
  {
   "cell_type": "markdown",
   "metadata": {},
   "source": [
    "Ctrl+Shift+F7"
   ]
  },
  {
   "cell_type": "markdown",
   "metadata": {},
   "source": [
    "更新选定的域。"
   ]
  },
  {
   "cell_type": "markdown",
   "metadata": {},
   "source": [
    "F9"
   ]
  },
  {
   "cell_type": "markdown",
   "metadata": {},
   "source": [
    "取消域的链接。"
   ]
  },
  {
   "cell_type": "markdown",
   "metadata": {},
   "source": [
    "Ctrl+Shift+F9"
   ]
  },
  {
   "cell_type": "markdown",
   "metadata": {},
   "source": [
    "在所选的域代码及其结果之间进行切换。"
   ]
  },
  {
   "cell_type": "markdown",
   "metadata": {},
   "source": [
    "Shift+F9"
   ]
  },
  {
   "cell_type": "markdown",
   "metadata": {},
   "source": [
    "在所有的域代码及其结果间进行切换。"
   ]
  },
  {
   "cell_type": "markdown",
   "metadata": {},
   "source": [
    "Alt+F9"
   ]
  },
  {
   "cell_type": "markdown",
   "metadata": {},
   "source": [
    "从显示字段结果的字段中运行 GOTOBUTTON 或 MACROBUTTON。"
   ]
  },
  {
   "cell_type": "markdown",
   "metadata": {},
   "source": [
    "Alt+Shift+F9"
   ]
  },
  {
   "cell_type": "markdown",
   "metadata": {},
   "source": [
    "前往下一个域。"
   ]
  },
  {
   "cell_type": "markdown",
   "metadata": {},
   "source": [
    "F11"
   ]
  },
  {
   "cell_type": "markdown",
   "metadata": {},
   "source": [
    "定位至前一个域。"
   ]
  },
  {
   "cell_type": "markdown",
   "metadata": {},
   "source": [
    "Shift+F11"
   ]
  },
  {
   "cell_type": "markdown",
   "metadata": {},
   "source": [
    "锁定域。"
   ]
  },
  {
   "cell_type": "markdown",
   "metadata": {},
   "source": [
    "Ctrl+F11"
   ]
  },
  {
   "cell_type": "markdown",
   "metadata": {},
   "source": [
    "解除对域的锁定。"
   ]
  },
  {
   "cell_type": "markdown",
   "metadata": {},
   "source": [
    "Ctrl+Shift+F11"
   ]
  },
  {
   "cell_type": "markdown",
   "metadata": {},
   "source": [
    "### 使用文档视图"
   ]
  },
  {
   "cell_type": "markdown",
   "metadata": {},
   "source": [
    "Word 提供了多种不同的文档视图。 使用不同的视图可以更轻松地执行特定任务。 例如 ，\"阅读 模式\"允许以水平页面序列形式查看文档，可以使用向左键和向右键快速浏览。"
   ]
  },
  {
   "cell_type": "markdown",
   "metadata": {},
   "source": [
    "#### 切换文档视图"
   ]
  },
  {
   "cell_type": "markdown",
   "metadata": {},
   "source": [
    "切换到\" 读取模式\" 视图。在 Word 2007 和 2010 中，这称为 全屏阅读 视图。"
   ]
  },
  {
   "cell_type": "markdown",
   "metadata": {},
   "source": [
    "Alt+W, F"
   ]
  },
  {
   "cell_type": "markdown",
   "metadata": {},
   "source": [
    "切换到\"页面视图\"。"
   ]
  },
  {
   "cell_type": "markdown",
   "metadata": {},
   "source": [
    "Ctrl+Alt+P"
   ]
  },
  {
   "cell_type": "markdown",
   "metadata": {},
   "source": [
    "切换到\"大纲 \" 视图。"
   ]
  },
  {
   "cell_type": "markdown",
   "metadata": {},
   "source": [
    "Ctrl+Alt+O"
   ]
  },
  {
   "cell_type": "markdown",
   "metadata": {},
   "source": [
    "切换到\" 草稿\" 视图。"
   ]
  },
  {
   "cell_type": "markdown",
   "metadata": {},
   "source": [
    "Ctrl+Alt+N"
   ]
  },
  {
   "cell_type": "markdown",
   "metadata": {},
   "source": [
    "#### 创建文档大纲"
   ]
  },
  {
   "cell_type": "markdown",
   "metadata": {},
   "source": [
    "这些快捷方式仅在文档位于 \"大纲\" 视图中时适用。"
   ]
  },
  {
   "cell_type": "markdown",
   "metadata": {},
   "source": [
    "提升段落级别。"
   ]
  },
  {
   "cell_type": "markdown",
   "metadata": {},
   "source": [
    "Alt+Shift+向左键"
   ]
  },
  {
   "cell_type": "markdown",
   "metadata": {},
   "source": [
    "降低段落级别。"
   ]
  },
  {
   "cell_type": "markdown",
   "metadata": {},
   "source": [
    "Alt+Shift+向右键"
   ]
  },
  {
   "cell_type": "markdown",
   "metadata": {},
   "source": [
    "将段落降级为正文文本。"
   ]
  },
  {
   "cell_type": "markdown",
   "metadata": {},
   "source": [
    "Ctrl+Shift+N"
   ]
  },
  {
   "cell_type": "markdown",
   "metadata": {},
   "source": [
    "上移所选段落。"
   ]
  },
  {
   "cell_type": "markdown",
   "metadata": {},
   "source": [
    "Alt+Shift+向上箭头键"
   ]
  },
  {
   "cell_type": "markdown",
   "metadata": {},
   "source": [
    "下移所选段落。"
   ]
  },
  {
   "cell_type": "markdown",
   "metadata": {},
   "source": [
    "Alt+Shift+向下键"
   ]
  },
  {
   "cell_type": "markdown",
   "metadata": {},
   "source": [
    "展开标题下的文本。"
   ]
  },
  {
   "cell_type": "markdown",
   "metadata": {},
   "source": [
    "Alt+Shift+加号"
   ]
  },
  {
   "cell_type": "markdown",
   "metadata": {},
   "source": [
    "折叠标题下的文本。"
   ]
  },
  {
   "cell_type": "markdown",
   "metadata": {},
   "source": [
    "Alt+Shift+减号"
   ]
  },
  {
   "cell_type": "markdown",
   "metadata": {},
   "source": [
    "扩展或折叠所有文本或标题。"
   ]
  },
  {
   "cell_type": "markdown",
   "metadata": {},
   "source": [
    "Alt+Shift+A"
   ]
  },
  {
   "cell_type": "markdown",
   "metadata": {},
   "source": [
    "隐藏或显示字符格式。"
   ]
  },
  {
   "cell_type": "markdown",
   "metadata": {},
   "source": [
    "数字 (键盘) (上的正斜杠)"
   ]
  },
  {
   "cell_type": "markdown",
   "metadata": {},
   "source": [
    "在显示第一行正文文本和显示所有正文文本之间切换。"
   ]
  },
  {
   "cell_type": "markdown",
   "metadata": {},
   "source": [
    "Alt+Shift+L"
   ]
  },
  {
   "cell_type": "markdown",
   "metadata": {},
   "source": [
    "显示具有\"标题 1\"样式的所有 标题。"
   ]
  },
  {
   "cell_type": "markdown",
   "metadata": {},
   "source": [
    "Alt+Shift+1"
   ]
  },
  {
   "cell_type": "markdown",
   "metadata": {},
   "source": [
    "显示具有指定标题级别的所有标题。"
   ]
  },
  {
   "cell_type": "markdown",
   "metadata": {},
   "source": [
    "Alt+Shift+标题级别编号"
   ]
  },
  {
   "cell_type": "markdown",
   "metadata": {},
   "source": [
    "插入制表符。"
   ]
  },
  {
   "cell_type": "markdown",
   "metadata": {},
   "source": [
    "Ctrl+Tab"
   ]
  },
  {
   "cell_type": "markdown",
   "metadata": {},
   "source": [
    "#### 在阅读模式下浏览文档"
   ]
  },
  {
   "cell_type": "markdown",
   "metadata": {},
   "source": [
    "移动到文档的开头。"
   ]
  },
  {
   "cell_type": "markdown",
   "metadata": {},
   "source": [
    "Home"
   ]
  },
  {
   "cell_type": "markdown",
   "metadata": {},
   "source": [
    "移至文档末尾。"
   ]
  },
  {
   "cell_type": "markdown",
   "metadata": {},
   "source": [
    "End"
   ]
  },
  {
   "cell_type": "markdown",
   "metadata": {},
   "source": [
    "转到特定页面。"
   ]
  },
  {
   "cell_type": "markdown",
   "metadata": {},
   "source": [
    "键入页码，然后按 Enter"
   ]
  },
  {
   "cell_type": "markdown",
   "metadata": {},
   "source": [
    "退出读取模式。"
   ]
  },
  {
   "cell_type": "markdown",
   "metadata": {},
   "source": [
    "Esc"
   ]
  },
  {
   "cell_type": "markdown",
   "metadata": {},
   "source": [
    "### 使用功能键快捷方式"
   ]
  },
  {
   "cell_type": "markdown",
   "metadata": {},
   "source": [
    "#### F1"
   ]
  },
  {
   "cell_type": "markdown",
   "metadata": {},
   "source": [
    "F1 单独显示：显示 Word 帮助 任务窗格。"
   ]
  },
  {
   "cell_type": "markdown",
   "metadata": {},
   "source": [
    "Shift+F1：显示或隐藏上下文相关的帮助或\" 显示格式\"任务 窗格。"
   ]
  },
  {
   "cell_type": "markdown",
   "metadata": {},
   "source": [
    "Ctrl+F1：显示或隐藏功能区。"
   ]
  },
  {
   "cell_type": "markdown",
   "metadata": {},
   "source": [
    "Alt+F1：移到下一个字段。"
   ]
  },
  {
   "cell_type": "markdown",
   "metadata": {},
   "source": [
    "Alt+Shift+F1：移到上一字段。"
   ]
  },
  {
   "cell_type": "markdown",
   "metadata": {},
   "source": [
    "#### F2"
   ]
  },
  {
   "cell_type": "markdown",
   "metadata": {},
   "source": [
    "F2 独立：移动所选文本或图形。 使用箭头键将光标置于要移动文本或图形的位置，然后按 Enter 移动，或按 Esc 取消。"
   ]
  },
  {
   "cell_type": "markdown",
   "metadata": {},
   "source": [
    "Shift+F2：复制所选文本或图形。 使用箭头键将光标置于要复制文本或图形的位置，然后按 Enter 进行复制，或按 Esc 取消。"
   ]
  },
  {
   "cell_type": "markdown",
   "metadata": {},
   "source": [
    "Ctrl+F2：在 Backstage 视图中的\"打印 \" 选项卡上显示打印预览区域。"
   ]
  },
  {
   "cell_type": "markdown",
   "metadata": {},
   "source": [
    "Alt+Shift+F2：保存文档。"
   ]
  },
  {
   "cell_type": "markdown",
   "metadata": {},
   "source": [
    "Ctrl+Alt+F2：显示\"打开 \" 对话框。"
   ]
  },
  {
   "cell_type": "markdown",
   "metadata": {},
   "source": [
    "#### F3"
   ]
  },
  {
   "cell_type": "markdown",
   "metadata": {},
   "source": [
    "Shift+F3：在大写、小写和标题大小写之间切换所选文本。"
   ]
  },
  {
   "cell_type": "markdown",
   "metadata": {},
   "source": [
    "Ctrl+F3：将所选内容剪切到\"峰值\"。 可以将多个文本和图形剪切到\"图文场\"，然后将其作为一个组粘贴到另一个位置。"
   ]
  },
  {
   "cell_type": "markdown",
   "metadata": {},
   "source": [
    "Ctrl+Shift+F3：粘贴 Spike 的内容。"
   ]
  },
  {
   "cell_type": "markdown",
   "metadata": {},
   "source": [
    "Alt+F3：创建新的构建基块。"
   ]
  },
  {
   "cell_type": "markdown",
   "metadata": {},
   "source": [
    "#### F4"
   ]
  },
  {
   "cell_type": "markdown",
   "metadata": {},
   "source": [
    "F4（单独使用）：重复上一个命令或操作（如有可能）。"
   ]
  },
  {
   "cell_type": "markdown",
   "metadata": {},
   "source": [
    "Shift+F4：重复上一个\"查找\"或\"转到\"操作。"
   ]
  },
  {
   "cell_type": "markdown",
   "metadata": {},
   "source": [
    "Ctrl+F4：关闭当前文档。"
   ]
  },
  {
   "cell_type": "markdown",
   "metadata": {},
   "source": [
    "Alt+F4：关闭 Word 。"
   ]
  },
  {
   "cell_type": "markdown",
   "metadata": {},
   "source": [
    "#### F5"
   ]
  },
  {
   "cell_type": "markdown",
   "metadata": {},
   "source": [
    "F5（单独使用）：显示 \"转到\" 对话框。"
   ]
  },
  {
   "cell_type": "markdown",
   "metadata": {},
   "source": [
    "Shift+F5：将光标移动到最后一个更改。"
   ]
  },
  {
   "cell_type": "markdown",
   "metadata": {},
   "source": [
    "Ctrl+Shift+F5：显示 \"书签\" 对话框。"
   ]
  },
  {
   "cell_type": "markdown",
   "metadata": {},
   "source": [
    "Alt+F5：还原文档窗口大小。"
   ]
  },
  {
   "cell_type": "markdown",
   "metadata": {},
   "source": [
    "#### F6"
   ]
  },
  {
   "cell_type": "markdown",
   "metadata": {},
   "source": [
    "F6（单独使用）：在文档、任务窗格、状态栏和功能区之间切换。 在已拆分的文档中，在窗格和任务窗格之间切换时，F6 包括拆分窗格。"
   ]
  },
  {
   "cell_type": "markdown",
   "metadata": {},
   "source": [
    "Shift+F6：在文档、功能区、状态栏和任务窗格之间切换。"
   ]
  },
  {
   "cell_type": "markdown",
   "metadata": {},
   "source": [
    "Ctrl+F6：打开多个文档时切换到下一个文档窗口。"
   ]
  },
  {
   "cell_type": "markdown",
   "metadata": {},
   "source": [
    "Ctrl+Shift+F6：打开多个文档时切换到上一个文档窗口。"
   ]
  },
  {
   "cell_type": "markdown",
   "metadata": {},
   "source": [
    "Alt+F6：对于支持此行为的对话框，从打开的对话框移回文档。"
   ]
  },
  {
   "cell_type": "markdown",
   "metadata": {},
   "source": [
    "#### F7"
   ]
  },
  {
   "cell_type": "markdown",
   "metadata": {},
   "source": [
    "F7（单独使用）：显示\" 编辑器 \"任务窗格以检查文档或所选文本中的拼写和语法。"
   ]
  },
  {
   "cell_type": "markdown",
   "metadata": {},
   "source": [
    "Shift+F7：显示 \"同义词库\" 任务窗格。"
   ]
  },
  {
   "cell_type": "markdown",
   "metadata": {},
   "source": [
    "Ctrl+Shift+F7：更新 Word 源文档中的链接信息。"
   ]
  },
  {
   "cell_type": "markdown",
   "metadata": {},
   "source": [
    "Alt+F7：查找下一个拼写或语法错误。"
   ]
  },
  {
   "cell_type": "markdown",
   "metadata": {},
   "source": [
    "Alt+Shift+F7：在 2013 Word 更高版本中，显示 \"翻译工具 \"任务窗格。 在 Word 2007 和 2010 中， 显示\"信息 研究\"任务窗格。"
   ]
  },
  {
   "cell_type": "markdown",
   "metadata": {},
   "source": [
    "#### F8"
   ]
  },
  {
   "cell_type": "markdown",
   "metadata": {},
   "source": [
    "F8（单独使用）：扩展选定区域。 例如，如果选择了一个单词，则所选内容的大小将扩展到一个句子。"
   ]
  },
  {
   "cell_type": "markdown",
   "metadata": {},
   "source": [
    "Shift+F8：减少选择。 例如，如果选择了段落，则所选内容的大小将缩减为一个句子。"
   ]
  },
  {
   "cell_type": "markdown",
   "metadata": {},
   "source": [
    "Ctrl+Shift+F8：打开和关闭扩展选择模式。 在扩展选择模式下，箭头键扩展所选内容。"
   ]
  },
  {
   "cell_type": "markdown",
   "metadata": {},
   "source": [
    "Alt+F8：显示\" 宏 \"对话框，用于创建、运行、编辑或删除宏。"
   ]
  },
  {
   "cell_type": "markdown",
   "metadata": {},
   "source": [
    "#### F9"
   ]
  },
  {
   "cell_type": "markdown",
   "metadata": {},
   "source": [
    "F9（单独使用）：更新所选字段。"
   ]
  },
  {
   "cell_type": "markdown",
   "metadata": {},
   "source": [
    "Shift+F9：在域代码及其结果之间切换。"
   ]
  },
  {
   "cell_type": "markdown",
   "metadata": {},
   "source": [
    "Ctrl+F9：插入空字段。"
   ]
  },
  {
   "cell_type": "markdown",
   "metadata": {},
   "source": [
    "Ctrl+Shift+F9：取消链接当前字段。"
   ]
  },
  {
   "cell_type": "markdown",
   "metadata": {},
   "source": [
    "Alt+F9：在所有域代码及其结果之间切换。"
   ]
  },
  {
   "cell_type": "markdown",
   "metadata": {},
   "source": [
    "Alt+Shift+F9：从显示字段结果的字段中运行 GOTOBUTTON 或 MACROBUTTON。"
   ]
  },
  {
   "cell_type": "markdown",
   "metadata": {},
   "source": [
    "#### F10"
   ]
  },
  {
   "cell_type": "markdown",
   "metadata": {},
   "source": [
    "F10 单独：打开或关闭键提示。"
   ]
  },
  {
   "cell_type": "markdown",
   "metadata": {},
   "source": [
    "Shift+F10：显示所选项目的快捷菜单。"
   ]
  },
  {
   "cell_type": "markdown",
   "metadata": {},
   "source": [
    "Ctrl+F10：最大化或还原文档窗口大小。"
   ]
  },
  {
   "cell_type": "markdown",
   "metadata": {},
   "source": [
    "Alt+F10：显示\"选择 \" 任务窗格。"
   ]
  },
  {
   "cell_type": "markdown",
   "metadata": {},
   "source": [
    "Alt+Shift+F10：显示可用操作（例如，粘贴文本或自动 更正 更改）的菜单或消息。"
   ]
  },
  {
   "cell_type": "markdown",
   "metadata": {},
   "source": [
    "#### F11"
   ]
  },
  {
   "cell_type": "markdown",
   "metadata": {},
   "source": [
    "F11（单独）：移到下一个字段。"
   ]
  },
  {
   "cell_type": "markdown",
   "metadata": {},
   "source": [
    "Shift+F11：移到上一字段。"
   ]
  },
  {
   "cell_type": "markdown",
   "metadata": {},
   "source": [
    "Ctrl+F11：锁定当前字段。"
   ]
  },
  {
   "cell_type": "markdown",
   "metadata": {},
   "source": [
    "Ctrl+Shift+F11：解锁当前字段。"
   ]
  },
  {
   "cell_type": "markdown",
   "metadata": {},
   "source": [
    "Alt+F11：打开 Microsoft Visual Basic for Applications 编辑器，可在其中使用 Visual Basic for Applications (VBA) 。"
   ]
  },
  {
   "cell_type": "markdown",
   "metadata": {},
   "source": [
    "#### F12"
   ]
  },
  {
   "cell_type": "markdown",
   "metadata": {},
   "source": [
    "F12（单独使用）：显示\" 另存为\" 对话框。"
   ]
  },
  {
   "cell_type": "markdown",
   "metadata": {},
   "source": [
    "Shift+F12：保存文档。"
   ]
  },
  {
   "cell_type": "markdown",
   "metadata": {},
   "source": [
    "Ctrl+F12：显示\"打开 \" 对话框。"
   ]
  },
  {
   "cell_type": "markdown",
   "metadata": {},
   "source": [
    "Ctrl+Shift+F12：在Backstage 视图中显示\"打印\"选项卡。"
   ]
  },
  {
   "cell_type": "markdown",
   "metadata": {},
   "source": [
    "Alt+Shift+F12：当容器处于活动状态时，选择\"目录\"容器中的\"目录\"按钮。"
   ]
  }
 ],
 "metadata": {
  "kernelspec": {
   "display_name": "Python 3",
   "language": "python",
   "name": "python3"
  },
  "language_info": {
   "codemirror_mode": {
    "name": "ipython",
    "version": 3
   },
   "file_extension": ".py",
   "mimetype": "text/x-python",
   "name": "python",
   "nbconvert_exporter": "python",
   "pygments_lexer": "ipython3",
   "version": "3.7.3"
  }
 },
 "nbformat": 4,
 "nbformat_minor": 2
}